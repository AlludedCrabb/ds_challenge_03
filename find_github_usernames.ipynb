{
 "cells": [
  {
   "cell_type": "code",
   "execution_count": 17,
   "metadata": {},
   "outputs": [
    {
     "name": "stdout",
     "output_type": "stream",
     "text": [
      "['AlecMorgan', 'as6140', 'ZMBailey', 'rokaandy', 'AnnaLara', 'ConnorAnderson29', 'UpwardTrajectory', 'AlludedCrabb', 'jnawjux', 'kayschulz', 'kevintheduu', 'Laura-ShummonMaass', 'worldyne', 'glmack', 'mandoiwanaga', 'MIAISEMAN', 'nkacoroski', 'Patrickbfuller', 'sherzyang', 'Teosoft7', 'TSGreenwood', 'angrobanGit']\n"
     ]
    }
   ],
   "source": [
    "import csv\n",
    "\n",
    "with open('data.csv') as f:\n",
    "    reader = csv.reader(f)\n",
    "    data = list(reader)\n",
    "\n",
    "\n",
    "github_user_names = []\n",
    "\n",
    "for user in range(len(data)):\n",
    "    if data[user][1] != '' and data[user][1] != 'User':\n",
    "        github_user_names.append(data[user][1])\n",
    "print(github_user_names)"
   ]
  },
  {
   "cell_type": "code",
   "execution_count": null,
   "metadata": {},
   "outputs": [],
   "source": []
  }
 ],
 "metadata": {
  "kernelspec": {
   "display_name": "learn-env",
   "language": "python",
   "name": "learn-env"
  },
  "language_info": {
   "codemirror_mode": {
    "name": "ipython",
    "version": 3
   },
   "file_extension": ".py",
   "mimetype": "text/x-python",
   "name": "python",
   "nbconvert_exporter": "python",
   "pygments_lexer": "ipython3",
   "version": "3.6.6"
  }
 },
 "nbformat": 4,
 "nbformat_minor": 2
}
