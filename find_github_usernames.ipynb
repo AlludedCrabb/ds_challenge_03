{
 "cells": [
  {
   "cell_type": "code",
   "execution_count": 3,
   "metadata": {},
   "outputs": [
    {
     "name": "stdout",
     "output_type": "stream",
     "text": [
      "['Name', 'User', 'Links']\n",
      "['', '', '']\n",
      "['AlecMorgan', 'as6140', 'ZMBailey', 'rokaandy', 'AnnaLara', 'ConnorAnderson29', 'UpwardTrajectory', 'AlludedCrabb', 'jnawjux', 'kayschulz', 'kevintheduu', 'Laura-ShummonMaass', 'worldyne', 'glmack', 'mandoiwanaga', 'MIAISEMAN', 'nkacoroski', 'Patrickbfuller', 'sherzyang', 'Teosoft7', 'TSGreenwood', 'angrobanGit']\n"
     ]
    }
   ],
   "source": [
    "import csv\n",
    "\n",
    "with open('data.csv') as f:\n",
    "    reader = csv.reader(f)\n",
    "    data = list(reader)\n",
    "\n",
    "    \n",
    "#explore the first item\n",
    "print(data[0])\n",
    "\n",
    "#explore the second item\n",
    "print(data[1])\n",
    "    \n",
    "    \n",
    "\n",
    "#declare an empty list to hold the user names\n",
    "github_user_names = []\n",
    "\n",
    "#loop through the data\n",
    "for user in range(len(data)):\n",
    "    #get rid of things that aren't usernames\n",
    "    if data[user][1] != '' and data[user][1] != 'User':\n",
    "        \n",
    "        #then print the good names\n",
    "        github_user_names.append(data[user][1])\n",
    "#print the end result\n",
    "print(github_user_names)"
   ]
  },
  {
   "cell_type": "code",
   "execution_count": null,
   "metadata": {},
   "outputs": [],
   "source": []
  }
 ],
 "metadata": {
  "kernelspec": {
   "display_name": "learn-env",
   "language": "python",
   "name": "learn-env"
  },
  "language_info": {
   "codemirror_mode": {
    "name": "ipython",
    "version": 3
   },
   "file_extension": ".py",
   "mimetype": "text/x-python",
   "name": "python",
   "nbconvert_exporter": "python",
   "pygments_lexer": "ipython3",
   "version": "3.6.6"
  }
 },
 "nbformat": 4,
 "nbformat_minor": 2
}
